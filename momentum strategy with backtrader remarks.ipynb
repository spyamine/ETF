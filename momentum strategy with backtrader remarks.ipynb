{
 "cells": [
  {
   "cell_type": "markdown",
   "metadata": {},
   "source": [
    "In this post we will look at the momentum strategy from Andreas F. Clenow's book [Stocks on the Move: Beating the Market with Hedge Fund Momentum Strategy](https://amzn.to/2YzEIvL) and backtest its performance using the survivorship bias-free dataset we created in my [last post](/2019/05/creating-a-survivorship-bias-free-sp-500-dataset-with-python/)."
   ]
  },
  {
   "cell_type": "markdown",
   "metadata": {},
   "source": [
    "Momentum strategies are almost the opposite of mean-reversion strategies. A typical momentum strategy will buy stocks that have been showing an upward trend in hopes that the trend will continue. The momentum strategy defined in Clenow's books trades based upon the following rules:"
   ]
  },
  {
   "cell_type": "markdown",
   "metadata": {},
   "source": [
    " * Trade once a week. In his book, Clenow trades every Wednesday, but as he notes, which day is completely arbitrary.\n",
    " \n",
    " \n",
    " * Rank stocks in the S&P 500 based on momentum. Momentum is calculated by multiplying the annualized exponential regression slope of the past 90 days by the $R^2$ coefficient of the regression calculation.\n",
    " \n",
    " \n",
    " * Position size is calculated using the 20-day [Average True Range](https://www.investopedia.com/terms/a/atr.asp) of each stock, multiplied by 10 basis points of the portfolio value.\n",
    " \n",
    " \n",
    " * Only open new positions if the S&P 500 is above its 200-day moving average.\n",
    " \n",
    " \n",
    " * Every week, look to sell stocks that are not in the top 20% momentum ranking, or have fallen below their 100 day moving average. Buy stocks in the top 20% momentum rankings with remaining cash.\n",
    " \n",
    " \n",
    " * Every other week, rebalance existing positions with updated Average True Range values."
   ]
  },
  {
   "cell_type": "markdown",
   "metadata": {},
   "source": [
    "Before we backtest the strategy, let's look into the momentum and position size formulas."
   ]
  },
  {
   "cell_type": "markdown",
   "metadata": {},
   "source": [
    "## Momentum"
   ]
  },
  {
   "cell_type": "markdown",
   "metadata": {},
   "source": [
    "As mentioned above, momentum is calculated by multiplying the annualized exponential regression slope of the past 90 days by the $R^2$ coefficient of the regression calculation. To see this in action, let's look at the highest momentum values measured in our dataset. First we'll need to load in the dataset:"
   ]
  },
  {
   "cell_type": "code",
   "execution_count": 77,
   "metadata": {},
   "outputs": [],
   "source": [
    "from datetime import datetime \n",
    "import pandas as pd\n",
    "import matplotlib.pyplot as plt\n",
    "import numpy as np\n",
    "%matplotlib inline\n",
    "plt.rcParams[\"figure.figsize\"] = (10, 6) # (w, h)\n",
    "plt.ioff()"
   ]
  },
  {
   "cell_type": "code",
   "execution_count": 78,
   "metadata": {},
   "outputs": [],
   "source": [
    "from glob import glob"
   ]
  },
  {
   "cell_type": "code",
   "execution_count": 3,
   "metadata": {},
   "outputs": [],
   "source": [
    "tickers = glob(\"survivorship-free/data/*.csv\")\n",
    "# remove the full path\n",
    "tickers = [ ticker.split(\"/\")[2].split(\".\")[0]  for ticker in tickers]\n",
    "# remove the 'tickers' from the list\n",
    "\n",
    "tickers.remove('tickers')\n",
    "# print (tickers)"
   ]
  },
  {
   "cell_type": "code",
   "execution_count": null,
   "metadata": {},
   "outputs": [],
   "source": []
  },
  {
   "cell_type": "code",
   "execution_count": 4,
   "metadata": {},
   "outputs": [],
   "source": [
    "# tickers = pd.read_csv('survivorship-free/data/tickers.csv', header=None)[1].tolist()\n",
    "\n",
    "stocks = (\n",
    "    (pd.concat(\n",
    "        [pd.read_csv(f\"survivorship-free/data/{ticker}.csv\", index_col='date', parse_dates=True)[\n",
    "            'close'\n",
    "        ].rename(ticker)\n",
    "        for ticker in tickers],\n",
    "        axis=1,\n",
    "        sort=True)\n",
    "    )\n",
    ")\n",
    "stocks = stocks.loc[:,~stocks.columns.duplicated()]"
   ]
  },
  {
   "cell_type": "code",
   "execution_count": 5,
   "metadata": {},
   "outputs": [
    {
     "name": "stdout",
     "output_type": "stream",
     "text": [
      "             CSCO    UAL    TROW    ISRG   PRGO    LUK    TPR    DVN  NU  \\\n",
      "date                                                                       \n",
      "2018-02-22  42.94  66.70  110.42  419.79  87.07  24.48  49.77  30.41 NaN   \n",
      "2018-02-23  44.00  67.57  112.30  427.51  88.25  24.97  50.65  31.43 NaN   \n",
      "2018-02-26  45.36  69.26  114.15  432.00  88.30  25.02  51.16  31.61 NaN   \n",
      "2018-02-27  45.04  67.86  112.39  430.98  82.00  24.56  50.65  31.86 NaN   \n",
      "2018-02-28    NaN    NaN     NaN     NaN    NaN    NaN    NaN    NaN NaN   \n",
      "\n",
      "              MRO  ...    TSS     CRM    PGR     WAT    BWA    LRCX    NWL  \\\n",
      "date               ...                                                       \n",
      "2018-02-22  15.18  ...  86.80  113.00  56.85  204.47  52.24  188.36  26.71   \n",
      "2018-02-23  15.54  ...  88.82  114.96  57.71  208.47  52.32  193.10  26.80   \n",
      "2018-02-26  15.34  ...  88.85  116.65  58.85  208.45  51.91  198.43  27.82   \n",
      "2018-02-27  15.00  ...  87.99  116.47  58.53  206.11  50.09  193.47  26.96   \n",
      "2018-02-28    NaN  ...    NaN     NaN    NaN     NaN    NaN     NaN    NaN   \n",
      "\n",
      "            UAA     BLK    PPL  \n",
      "date                            \n",
      "2018-02-22  NaN  539.53  29.52  \n",
      "2018-02-23  NaN  549.75  30.34  \n",
      "2018-02-26  NaN  563.97  29.82  \n",
      "2018-02-27  NaN  552.77  29.17  \n",
      "2018-02-28  NaN     NaN    NaN  \n",
      "\n",
      "[5 rows x 638 columns]\n"
     ]
    }
   ],
   "source": [
    "print (stocks.tail())"
   ]
  },
  {
   "cell_type": "markdown",
   "metadata": {},
   "source": [
    "Now let's create our momentum measurement function. We can compute the exponential regression of a stock by performing linear regression on the natural log of the stock's daily closes:"
   ]
  },
  {
   "cell_type": "code",
   "execution_count": 4,
   "metadata": {},
   "outputs": [],
   "source": [
    "from scipy.stats import linregress\n",
    "def momentum(closes):\n",
    "    returns = np.log(closes)\n",
    "    x = np.arange(len(returns))\n",
    "    slope, _, rvalue, _, _ = linregress(x, returns)\n",
    "    return ((1 + slope) ** 252) * (rvalue ** 2)  # annualize slope and multiply by R^2"
   ]
  },
  {
   "cell_type": "markdown",
   "metadata": {},
   "source": [
    "Now we can apply a rolling 90 day momentum calculation to all of the stocks in our universe:"
   ]
  },
  {
   "cell_type": "code",
   "execution_count": 12,
   "metadata": {},
   "outputs": [],
   "source": [
    "momentums = stocks.copy(deep=True)\n",
    "for ticker in tickers:\n",
    "    momentums[ticker] = stocks[ticker].rolling(90).apply(momentum, raw=False)"
   ]
  },
  {
   "cell_type": "markdown",
   "metadata": {},
   "source": [
    "Let's look at the 5 stocks with the best momentum values and plot them along with their regression curve."
   ]
  },
  {
   "cell_type": "markdown",
   "metadata": {},
   "source": [
    "## Risk Parity Sizing"
   ]
  },
  {
   "cell_type": "markdown",
   "metadata": {},
   "source": [
    "Clenow's strategy uses risk parity allocation to calculate the position sizes of each stock. Each stock is assigned a size using the following formula:"
   ]
  },
  {
   "cell_type": "markdown",
   "metadata": {},
   "source": [
    "{% raw %}\n",
    "$$Size = {{AccountValue\\times RiskFactor} \\over {{ATR}_{20}}}$$\n",
    "{% endraw %}"
   ]
  },
  {
   "cell_type": "markdown",
   "metadata": {},
   "source": [
    "Where ${ATR}_{20}$ is a stock's [Average True Range](https://www.investopedia.com/terms/a/atr.asp) over the past 20 days. The risk factor, in our case, will be 10 basis points (0.1%). This means that if we assume each stock's ATR remains similar in the future, we can expect each stock to have a daily impact of 0.1% of our portfolio. We are essentially normalizing the weights all of the stocks in our portfolio by risk."
   ]
  },
  {
   "cell_type": "markdown",
   "metadata": {},
   "source": [
    "Now that we understand how the strategy works, let's backtest it!"
   ]
  },
  {
   "cell_type": "markdown",
   "metadata": {},
   "source": [
    "# Backtesting"
   ]
  },
  {
   "cell_type": "markdown",
   "metadata": {},
   "source": [
    "First we'll code the `Momentum` indicator and our strategy:"
   ]
  },
  {
   "cell_type": "code",
   "execution_count": 79,
   "metadata": {},
   "outputs": [],
   "source": [
    "import backtrader as bt\n",
    "from scipy.stats import linregress\n",
    "import collections"
   ]
  },
  {
   "cell_type": "code",
   "execution_count": 80,
   "metadata": {},
   "outputs": [],
   "source": [
    "\n",
    "# in order to have a purely declarative indicator\n",
    "# 1- we build a function that computes it\n",
    "# 2- use bt.ind.OperationN indicator which must have an attribute func defined, which will get period bars passed as argument \n",
    "# and will put the return value into the defined line \n",
    "\n",
    "\n",
    "\n",
    "class Momentum(bt.Indicator):\n",
    "    lines = ('trend',)\n",
    "    #     With a tuple of tuples parameters retain the order of declaration, \n",
    "    #     which can be of importance when enumerating them.\n",
    "    params = dict(period = 90) # or params = (('period', 90),)\n",
    "    \n",
    "    def __init__(self):\n",
    "        self.addminperiod(self.params.period)\n",
    "        \n",
    "    def next(self):\n",
    "        returns = np.log(self.data.get(size=self.p.period))\n",
    "        x = np.arange(len(returns))\n",
    "        slope, _, rvalue, _, _ = linregress(x, returns)\n",
    "        annualized = (1 + slope) ** 252\n",
    "        self.lines.trend[0] = annualized * (rvalue ** 2)\n",
    "\n",
    "class Momentum2(bt.ind.PeriodN):\n",
    "    lines = ('trend',)\n",
    "    #     With a tuple of tuples parameters retain the order of declaration, \n",
    "    #     which can be of importance when enumerating them.\n",
    "    params = dict(period = 90) # or params = (('period', 90),)\n",
    "\n",
    "    def next(self):\n",
    "        returns = np.log(self.data.get(size=self.p.period))\n",
    "        x = np.arange(len(returns))\n",
    "        slope, _, rvalue, _, _ = linregress(x, returns)\n",
    "        annualized = (1 + slope) ** 252\n",
    "        self.lines.trend[0] = annualized * (rvalue ** 2)\n",
    "\n",
    "def momentum_func(prices):\n",
    "    returns = np.log(prices)\n",
    "    slope, _ , rvalue, _ , _ = linregress(np.arange(len(r)),r)\n",
    "    annualized = (1 + slope)**252\n",
    "    return annualized*(rvalue **2)\n",
    "\n",
    "class Momentum3(bt.ind.OperationN):\n",
    "    lines =('trend',)\n",
    "    params = dict(period=50)\n",
    "    func = momentum_func\n",
    "    \n",
    " "
   ]
  },
  {
   "cell_type": "code",
   "execution_count": 90,
   "metadata": {},
   "outputs": [
    {
     "data": {
      "text/plain": [
       "'Sunday'"
      ]
     },
     "execution_count": 90,
     "metadata": {},
     "output_type": "execute_result"
    }
   ],
   "source": [
    "def dayName(day):\n",
    "    day_name= ['Monday', 'Tuesday', 'Wednesday', 'Thursday', 'Friday', 'Saturday','Sunday']\n",
    "    return (day_name[day.weekday()]) \n",
    "\n",
    "dayName(datetime.today())"
   ]
  },
  {
   "cell_type": "code",
   "execution_count": 112,
   "metadata": {},
   "outputs": [],
   "source": [
    "# import datetime\n",
    "\n",
    "\n",
    "class Strategy(bt.Strategy):\n",
    "    params = dict(\n",
    "        rankingPerc = 0.20,\n",
    "        \n",
    "        riskFactor = 0.001,\n",
    "        \n",
    "        momentum  = Momentum, # parametrize the momentum and its period\n",
    "        momentum_period = 90,\n",
    "        \n",
    "        movav = bt.ind.SMA, # parametrize the moving average and its periods\n",
    "        idx_period = 200,\n",
    "        \n",
    "        stock_period = 100,\n",
    "        \n",
    "        volatr = bt.ind.ATR, # parametrize the volatility and its period\n",
    "        vol_period = 20,  \n",
    "        \n",
    "        rebal_weekday = 5, # rebalance 5 is friday\n",
    "    )\n",
    "    \n",
    "    def __init__(self):\n",
    "#         self.i = 0\n",
    "        self.timer_counter = 1\n",
    "        self.inds = collections.defaultdict(dict)\n",
    "        \n",
    "        self.index = self.datas[0]\n",
    "        self.stocks = self.datas[1:]\n",
    "        \n",
    "        self.idx_mav = self.p.movav(self.index,period = self.p.idx_period) # bt.indicators.SimpleMovingAverage(self.spy.close,\n",
    "#                                                             period=200)\n",
    "        self.index_filter = self.index < self.idx_mav\n",
    "\n",
    "        for d in self.stocks:\n",
    "#             self.inds[d] = {}\n",
    "            self.inds[d][\"mom\"] = self.p.momentum(d,period=self.p.momentum_period)\n",
    "            self.inds[d][\"mav\"] = self.p.movav(d,period=self.p.stock_period)\n",
    "            self.inds[d][\"vol\"] = self.p.volatr(d,period=self.p.vol_period)\n",
    "            self.inds[d][\"sma_signal\"] = d - self.inds[d][\"mav\"] #  self.p.volatr(d,period=self.p.vol_period)\n",
    "        \n",
    "        self.d_with_len = [] # data with len required to make computations\n",
    "        \n",
    "        self.add_timer(\n",
    "            when = bt.Timer.SESSION_START,\n",
    "            weekdays=[self.p.rebal_weekday],\n",
    "            weekcarry=True, # if a day isn't there, execute on the next\n",
    "            cheat = True,\n",
    "        )\n",
    "        \n",
    "#         self.add_timer(\n",
    "#             when = bt.Timer.SESSION_START,\n",
    "#             weekdays=[self.p.rebal_weekday],\n",
    "#             weekcarry=True, # if a day isn't there, execute on the next\n",
    "#         )\n",
    "        \n",
    "    def prenext(self):\n",
    "        # call next() even when data is not available for all tickers\n",
    "        \n",
    "        self.d_with_len = [d for d in self.stocks if len(d)]\n",
    "        self.next()\n",
    "        # but there is no safeguard when entering next\n",
    "        # all the data is not necessaraly available.\n",
    "        # the default behavior for next when is called by backtrader is that it waits for all the data to be available\n",
    "    \n",
    "    \n",
    "    def nextstart(self):\n",
    "        # This is called exactly ONCE, when next is 1st called and defaults to\n",
    "        # call `next`\n",
    "        self.d_with_len = self.datas  # all data sets fulfill the guarantees now\n",
    "\n",
    "        self.next()  \n",
    "        \n",
    "    \n",
    "    def next(self):\n",
    "        pass\n",
    "        \n",
    "#         _, isowk, isowkday = self.datetime.date().isocalendar()\n",
    "#         txt = '{}, {}, isowk {}, isowkday {}'.format(len(self), self.datetime.datetime(), isowk, isowkday)\n",
    "#         print(txt)\n",
    "        \n",
    "        \n",
    "        \n",
    "#         self.rankings = list(filter(lambda d: len(d) , self.stocks))\n",
    "# #         self.rankings = list(filter(lambda d: len(d) > 100, self.stocks))\n",
    "#         print (\"rankings length: {}\".format(len(self.rankings)))\n",
    "#         self.rankings.sort(key=lambda d: self.inds[d][\"mom\"][0])\n",
    "#         self.num_stocks = len(self.rankings)\n",
    "        \n",
    "        \n",
    "#         bars_count = len(self) # counts how many bars passed\n",
    "#         print (\"i: {}, len(bar): {} \".format(self.i,len(self)))\n",
    "        \n",
    "#         if bars_count % 5 == 0:\n",
    "#             self.rebalance_portfolio()\n",
    "#         if bars_count % 10 == 0:\n",
    "#             self.rebalance_positions()\n",
    "            \n",
    "#         if self.i % 5 == 0:\n",
    "#             self.rebalance_portfolio()\n",
    "#         if self.i % 10 == 0:\n",
    "#             self.rebalance_positions()\n",
    "#         self.i += 1\n",
    "        \n",
    "        \n",
    "\n",
    "\n",
    "    def notify_timer(self,timer,when,*args,**kwargs):\n",
    "        \n",
    "        print ('strategy notify_timer with tid {}, when {}'.\n",
    "              format(timer.p.tid,when))\n",
    "        \n",
    "        self.rankings = list(filter(lambda d: len(d) , self.stocks))\n",
    "#         self.rankings = list(filter(lambda d: len(d) > 100, self.stocks))\n",
    "        print (\"rankings length: {}\".format(len(self.rankings)))\n",
    "        self.rankings.sort(key=lambda d: self.inds[d][\"mom\"][0])\n",
    "        self.num_stocks = len(self.rankings)\n",
    "        \n",
    "        print (\"self.num_stocks: {}\".format(self.num_stocks))\n",
    "        _, isowk, isowkday = self.datetime.date().isocalendar()\n",
    "\n",
    "        day_name = dayName(self.datetime.date())\n",
    "\n",
    "#         day_name = \"\"\n",
    "        if self.num_stocks > 0 :\n",
    "            \n",
    "\n",
    "            \n",
    "            txt = 'number of bars passed: {}, current date: {}, isowk: {}, isowkday: {}, day name: {}'.format(len(self), self.datetime.datetime(), isowk, isowkday, day_name)\n",
    "            \n",
    "            print (txt)\n",
    "            \n",
    "            if self.timer_counter % 2 == 0 :\n",
    "                print (\"rebalance_portfolio...\")\n",
    "                self.rebalance_portfolio()\n",
    "                print (\"rebalance_portfolio... done\")\n",
    "            else:\n",
    "                print (\"rebalance_positions\")\n",
    "                self.rebalance_positions()\n",
    "                print (\"rebalance_positions... done\")\n",
    "        \n",
    "        self.timer_counter +=1\n",
    "\n",
    "    def log(self, txt, dt=None):\n",
    "        if self.p.printout:\n",
    "            dt = dt or self.data.datetime[0]\n",
    "            dt = bt.num2date(dt)\n",
    "            print('%s, %s' % (dt.isoformat(), txt))\n",
    "\n",
    "    def notify_order(self, order):\n",
    "        if order.status in [bt.Order.Submitted, bt.Order.Accepted]:\n",
    "            return  # Await further notifications\n",
    "\n",
    "        if order.status == order.Completed:\n",
    "            if order.isbuy():\n",
    "                buytxt = 'BUY COMPLETE, %.2f' % order.executed.price\n",
    "                self.log(buytxt, order.executed.dt)\n",
    "            else:\n",
    "                selltxt = 'SELL COMPLETE, %.2f' % order.executed.price\n",
    "                self.log(selltxt, order.executed.dt)\n",
    "\n",
    "        elif order.status in [order.Expired, order.Canceled, order.Margin]:\n",
    "            self.log('%s ,' % order.Status[order.status])\n",
    "            pass  # Simply log\n",
    "\n",
    "        # Allow new orders\n",
    "        self.orderid = None\n",
    "\n",
    "    def stop(self):\n",
    "        print('==================================================')\n",
    "        print('Starting Value - %.2f' % self.broker.startingcash)\n",
    "        print('Ending   Value - %.2f' % self.broker.getvalue())\n",
    "        print('==================================================')\n",
    "        \n",
    "    def rebalance_portfolio(self):\n",
    "        # only look at data that we can have indicators for \n",
    "#         self.rankings = list(filter(lambda d: len(d) > 100, self.stocks))\n",
    "#         self.rankings.sort(key=lambda d: self.inds[d][\"mom\"][0])\n",
    "#         num_stocks = len(self.rankings)\n",
    "        \n",
    "        # sell stocks based on criteria\n",
    "        for i, d in enumerate(self.rankings):\n",
    "            if self.getposition(self.data).size:\n",
    "                if i > self.num_stocks * self.p.rankingPerc or self.inds[d][\"sma_signal\"]:\n",
    "                    self.close(d)\n",
    "        \n",
    "        if self.index_filter:\n",
    "            return\n",
    "        \n",
    "        # buy stocks with remaining cash\n",
    "        for i, d in enumerate(self.rankings[:int(self.num_stocks * self.p.rankingPerc)]):\n",
    "            cash = self.broker.get_cash()\n",
    "            value = self.broker.get_value()\n",
    "            if cash <= 0:\n",
    "                break\n",
    "            if not self.getposition(self.data).size:\n",
    "                size = value * self.p.riskFactor / self.inds[d][\"vol\"]\n",
    "                self.buy(d, size=size)\n",
    "                \n",
    "        \n",
    "    def rebalance_positions(self):\n",
    "#         num_stocks = len(self.rankings)\n",
    "        \n",
    "        if self.index_filter:\n",
    "            return\n",
    "\n",
    "        # rebalance all stocks\n",
    "        for i, d in enumerate(self.rankings[:int(self.num_stocks * 0.2)]):\n",
    "            cash = self.broker.get_cash()\n",
    "            value = self.broker.get_value()\n",
    "            if cash <= 0:\n",
    "                break\n",
    "            size = value * self.p.riskFactor / self.inds[d][\"vol\"]\n",
    "            self.order_target_size(d, size)"
   ]
  },
  {
   "cell_type": "markdown",
   "metadata": {},
   "source": [
    "As we can see in the code, the strategy looks for stocks it needs to sell every week in the `rebalance_portfolio` method and rebalances all of its positions every other week in the `rebalance_positions` method. Now let's run a backtest!"
   ]
  },
  {
   "cell_type": "code",
   "execution_count": null,
   "metadata": {},
   "outputs": [
    {
     "name": "stdout",
     "output_type": "stream",
     "text": [
      "loading the data ...\n",
      "ticker: TPR, length: 80\n",
      "ticker: NU, length: 47\n",
      "ticker: CRC, length: 46\n",
      "ticker: BLD, length: 23\n",
      "ticker: IQV, length: 60\n",
      "ticker: Q, length: 52\n",
      "ticker: CC, length: 23\n",
      "ticker: WPG, length: 22\n",
      "ticker: APTV, length: 40\n",
      "ticker: FHN, length: 84\n",
      "ticker: DF, length: 64\n",
      "ticker: HII, length: 19\n",
      "ticker: COP, length: 42\n",
      "ticker: CMCSK, length: 52\n",
      "ticker: CWGL, length: 21\n",
      "ticker: BTI, length: 24\n",
      "ticker: SYF, length: 22\n",
      "ticker: NCLH, length: 80\n",
      "ticker: X, length: 43\n",
      "ticker: AA, length: 20\n",
      "loading the data ... done\n"
     ]
    }
   ],
   "source": [
    "cerebro = bt.Cerebro(stdstats=False)\n",
    "cerebro.broker.set_coc(True)\n",
    "\n",
    "spy = bt.feeds.YahooFinanceData(dataname='SPY',\n",
    "                                 fromdate=datetime(2012,2,28),\n",
    "                                 todate=datetime(2018,2,28),\n",
    "                                 plot=False)\n",
    "\n",
    "cerebro.adddata(spy)  # add S&P 500 Index\n",
    "\n",
    "print (\"loading the data ...\")\n",
    "for ticker in tickers:\n",
    "    df = pd.read_csv(f\"survivorship-free/data/{ticker}.csv\",\n",
    "                     parse_dates=True,\n",
    "                     index_col=0)\n",
    "    if len(df) > 100: # data must be long enough to compute 100 day SMA\n",
    "        cerebro.adddata(bt.feeds.PandasData(dataname=df, plot=False))\n",
    "    else:\n",
    "        print (\"ticker: {}, length: {}\".format(ticker,len(df)) )\n",
    "        \n",
    "print (\"loading the data ... done\")\n",
    "\n",
    "cerebro.addobserver(bt.observers.Value)\n",
    "cerebro.addanalyzer(bt.analyzers.SharpeRatio, riskfreerate=0.0)\n",
    "cerebro.addanalyzer(bt.analyzers.Returns)\n",
    "cerebro.addanalyzer(bt.analyzers.DrawDown)\n",
    "cerebro.addstrategy(Strategy)\n",
    "results = cerebro.run()"
   ]
  },
  {
   "cell_type": "code",
   "execution_count": 73,
   "metadata": {},
   "outputs": [
    {
     "name": "stdout",
     "output_type": "stream",
     "text": [
      "Sharpe: 0.833\n",
      "Norm. Annual Return: 9.11%\n",
      "Max Drawdown: 20.55%\n"
     ]
    }
   ],
   "source": [
    "cerebro.plot(iplot=False)[0][0]\n",
    "print(f\"Sharpe: {results[0].analyzers.sharperatio.get_analysis()['sharperatio']:.3f}\")\n",
    "print(f\"Norm. Annual Return: {results[0].analyzers.returns.get_analysis()['rnorm100']:.2f}%\")\n",
    "print(f\"Max Drawdown: {results[0].analyzers.drawdown.get_analysis()['max']['drawdown']:.2f}%\")"
   ]
  },
  {
   "cell_type": "code",
   "execution_count": 11,
   "metadata": {},
   "outputs": [
    {
     "name": "stdout",
     "output_type": "stream",
     "text": [
      "Sharpe: 1.269\n",
      "Norm. Annual Return: 8.99%\n",
      "Max Drawdown: 11.71%\n"
     ]
    }
   ],
   "source": [
    "cerebro.plot(iplot=False)[0][0]\n",
    "print(f\"Sharpe: {results[0].analyzers.sharperatio.get_analysis()['sharperatio']:.3f}\")\n",
    "print(f\"Norm. Annual Return: {results[0].analyzers.returns.get_analysis()['rnorm100']:.2f}%\")\n",
    "print(f\"Max Drawdown: {results[0].analyzers.drawdown.get_analysis()['max']['drawdown']:.2f}%\")"
   ]
  },
  {
   "cell_type": "markdown",
   "metadata": {},
   "source": [
    "As we can see the algorithm performs pretty well. It makes an average of almost 9% a year with a max drawdown of only 11%. Although the S&P 500 slightly outperforms the algorithm over this time period (CAGR of 12%), it does so with more volatility (Max Drawdown of 13.5%, Sharpe of 1.07). Overall, this algorithm provides a good base for a momentum strategy and can likely be improved by altering parameters, applying filters, and adding leverage. I would highly recommend reading Clenow's book [Stocks on the Move: Beating the Market with Hedge Fund Momentum Strategy](https://amzn.to/2YzEIvL), as it provides a much more in depth description as to how the algorithm works, as well as detailed analysis of how it has performed historically."
   ]
  },
  {
   "cell_type": "markdown",
   "metadata": {},
   "source": [
    "If you would like to try the the strategy for yourself, you can find [this notebook](https://github.com/teddykoker/blog/tree/master/notebooks) on my Github, along with my [survivorship bias-free dataset](https://github.com/teddykoker/quant/tree/master/survivorship-free)!"
   ]
  }
 ],
 "metadata": {
  "kernelspec": {
   "display_name": "Python 3",
   "language": "python",
   "name": "python3"
  },
  "language_info": {
   "codemirror_mode": {
    "name": "ipython",
    "version": 3
   },
   "file_extension": ".py",
   "mimetype": "text/x-python",
   "name": "python",
   "nbconvert_exporter": "python",
   "pygments_lexer": "ipython3",
   "version": "3.7.9"
  },
  "name": "Momentum Strategy from \"Stocks on the Move\" in Python"
 },
 "nbformat": 4,
 "nbformat_minor": 2
}
